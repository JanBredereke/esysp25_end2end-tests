{
 "cells": [
  {
   "cell_type": "markdown",
   "id": "14770c28",
   "metadata": {},
   "source": [
    "# Prepare Environment"
   ]
  },
  {
   "cell_type": "code",
   "execution_count": null,
   "id": "882dc4cb",
   "metadata": {},
   "outputs": [],
   "source": [
    "from os import path\n",
    "from utils.notebook_helpers import select_device, show_in_netron\n",
    "from models.cnv import CNV\n",
    "\n",
    "data_dir = path.join('..', 'data')\n",
    "model_name = 'CNV'\n",
    "model_dir = 'exports'\n",
    "model_path = path.join(model_dir, f'{model_name}.pth')\n",
    "device = select_device()\n",
    "\n",
    "num_classes = 2 # noperson, person\n",
    "weight_bit_width = 1\n",
    "act_bit_width = 1\n",
    "in_bit_width = 8\n",
    "in_ch = 3 # for each image color channel, RGB\n",
    "\n",
    "print('Device:', device)\n"
   ]
  },
  {
   "cell_type": "markdown",
   "id": "60ff299d",
   "metadata": {},
   "source": [
    "To ensure reproducible results, configure determinism for applicable libraries.\n",
    "\n",
    "We were not yet able to make this training fully deterministic, likely due to library code that does not respect the set seed.\n",
    "But it seems like this gives us comparably close results, because at least some parts are working deterministically (as intended)."
   ]
  },
  {
   "cell_type": "code",
   "execution_count": null,
   "id": "a8da3551",
   "metadata": {},
   "outputs": [],
   "source": [
    "from utils.notebook_helpers import set_determinism\n",
    "\n",
    "seed = 0\n",
    "set_determinism(seed)\n"
   ]
  },
  {
   "cell_type": "markdown",
   "id": "0ff029ea",
   "metadata": {},
   "source": [
    "# Load Dataset\n",
    "\n",
    "See the Docstring of `CustomDataSet` for the expected directory structure."
   ]
  },
  {
   "cell_type": "code",
   "execution_count": null,
   "id": "38c74753",
   "metadata": {},
   "outputs": [],
   "source": [
    "from datasets.custom import CustomDataSet\n",
    "\n",
    "dataset = CustomDataSet(\n",
    "    root_dir=data_dir,\n",
    "    dataset='custom_dataset',\n",
    "    validate_ratio=0.2,\n",
    "    image_size=64,\n",
    "    batch_size=32,\n",
    "    num_workers=0,\n",
    "    seed=seed\n",
    ")\n"
   ]
  },
  {
   "cell_type": "code",
   "execution_count": null,
   "id": "63e33700",
   "metadata": {},
   "outputs": [],
   "source": [
    "from utils.notebook_helpers import print_num_samples\n",
    "\n",
    "print_num_samples(\"train\", dataset.train_loader.dataset, dataset.classes)\n",
    "print_num_samples(\"validate\", dataset.validate_loader.dataset, dataset.classes)\n",
    "print_num_samples(\"test\", dataset.test_loader.dataset, dataset.classes)\n"
   ]
  },
  {
   "cell_type": "markdown",
   "id": "d92cfd0a",
   "metadata": {},
   "source": [
    "# Show Class Ids"
   ]
  },
  {
   "cell_type": "code",
   "execution_count": null,
   "id": "608f5a45",
   "metadata": {},
   "outputs": [],
   "source": [
    "dataset.classes\n"
   ]
  },
  {
   "cell_type": "markdown",
   "id": "66333096",
   "metadata": {},
   "source": [
    "# Training"
   ]
  },
  {
   "cell_type": "code",
   "execution_count": null,
   "id": "f56ffd18",
   "metadata": {},
   "outputs": [],
   "source": [
    "from trainers.basic import Trainer\n",
    "\n",
    "model = CNV(num_classes, weight_bit_width, act_bit_width, in_bit_width, in_ch)\n",
    "trainer = Trainer(\n",
    "    model=model,\n",
    "    save_path=model_path,\n",
    "    train_dataloader=dataset.train_loader,\n",
    "    validate_dataloader=dataset.validate_loader,\n",
    "    device=device,\n",
    "    max_epochs=10,\n",
    "    patience=5,\n",
    "    print_every_n_batches=10\n",
    ")\n",
    "trainer.train()\n"
   ]
  },
  {
   "cell_type": "code",
   "execution_count": null,
   "id": "4089b371",
   "metadata": {},
   "outputs": [],
   "source": [
    "trainer.plot_history()\n"
   ]
  },
  {
   "cell_type": "markdown",
   "id": "01a98aa7",
   "metadata": {},
   "source": [
    "## Measure accuracy"
   ]
  },
  {
   "cell_type": "code",
   "execution_count": null,
   "id": "37f19efb",
   "metadata": {},
   "outputs": [],
   "source": [
    "from testers.basic import Tester\n",
    "\n",
    "model = CNV(num_classes, weight_bit_width, act_bit_width, in_bit_width, in_ch)\n",
    "Tester(model=model, load_path=model_path, test_dataloader=dataset.test_loader, device=device, print_test_information=True).test()\n"
   ]
  },
  {
   "cell_type": "markdown",
   "id": "e6bba0a8",
   "metadata": {},
   "source": [
    "## FINN Export"
   ]
  },
  {
   "cell_type": "code",
   "execution_count": null,
   "id": "336899a6",
   "metadata": {},
   "outputs": [],
   "source": [
    "from exporters.onnx import ONNXExporter\n",
    "\n",
    "model = CNV(num_classes, weight_bit_width, act_bit_width, in_bit_width, in_ch)\n",
    "onnx_path = path.join(model_dir, f'{model_name}.onnx')\n",
    "ONNXExporter(model=model, load_path=model_path, save_path=onnx_path).export()\n",
    "\n",
    "show_in_netron(onnx_path)\n"
   ]
  }
 ],
 "metadata": {
  "language_info": {
   "name": "python"
  }
 },
 "nbformat": 4,
 "nbformat_minor": 5
}
